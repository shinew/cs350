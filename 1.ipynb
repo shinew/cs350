{
 "cells": [
  {
   "cell_type": "markdown",
   "metadata": {
    "collapsed": true
   },
   "source": [
    "Def: *kernel*: part of the OS that responses to syscalls, interrupts, and exceptions\n",
    "\n",
    "Def: *Operating System*: kernel + related programs/services for apps. Sits between the *application* and *hardware* layers. Includes:\n",
    "\n",
    "- utilities (defrag, backup, screen saver)\n",
    "- command interpreters (`bash`, `zsh`)\n",
    "- programming libraries (POSIX threads)\n",
    "\n",
    "Various abstractions:\n",
    "\n",
    "- files/filesystems: storage\n",
    "- address spaces: primary memory\n",
    "- processes/threads: program execution\n",
    "- sockets/pipes: network/message channels"
   ]
  },
  {
   "cell_type": "code",
   "execution_count": null,
   "metadata": {
    "collapsed": true
   },
   "outputs": [],
   "source": []
  }
 ],
 "metadata": {
  "kernelspec": {
   "display_name": "C",
   "language": "c",
   "name": "c_spec"
  },
  "language_info": {
   "file_extension": "c",
   "mimetype": "text/plain",
   "name": "c"
  }
 },
 "nbformat": 4,
 "nbformat_minor": 0
}
